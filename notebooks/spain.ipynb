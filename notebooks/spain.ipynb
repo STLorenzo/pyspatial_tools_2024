{
 "cells": [
  {
   "cell_type": "code",
   "execution_count": null,
   "metadata": {},
   "outputs": [],
   "source": [
    "# Spain data ingestion\n",
    "import os\n",
    "import geopandas as gpd\n",
    "\n",
    "# Constants\n",
    "WSG_84 = 4326\n",
    "SPAIN_CRS = 3042\n",
    "\n",
    "# Params - paths\n",
    "silver_dir_path = \"/opt/data/silver\"\n",
    "\n",
    "spain_shape_landing = \"/opt/data/landing/spain_shape/SHP_ETRS89/recintos_provinciales_inspire_peninbal_etrs89/recintos_provinciales_inspire_peninbal_etrs89.shp\"\n",
    "spain_contour_path = f\"{silver_dir_path}/spain/spain_contour.parquet\"\n",
    "\n",
    "# Ingestion\n",
    "spain_shape = gpd.read_file(spain_shape_landing).to_crs(SPAIN_CRS)\n",
    "\n",
    "# Transform\n",
    "wanted_cols = [\"INSPIREID\", \"geometry\"]\n",
    "spain_contour = spain_shape[wanted_cols].dissolve()\n",
    "\n",
    "# Write\n",
    "os.makedirs(os.path.dirname(spain_contour_path), exist_ok=True)\n",
    "spain_contour.to_parquet(spain_contour_path)"
   ]
  },
  {
   "cell_type": "code",
   "execution_count": null,
   "metadata": {},
   "outputs": [],
   "source": [
    "gpd.read_parquet(spain_contour_path).head()"
   ]
  },
  {
   "cell_type": "markdown",
   "metadata": {},
   "source": [
    "# H3 Hexagons"
   ]
  },
  {
   "cell_type": "code",
   "execution_count": null,
   "metadata": {},
   "outputs": [],
   "source": [
    "import geopandas as gpd\n",
    "from shapely.geometry import shape, Polygon, MultiPolygon\n",
    "import h3\n",
    "import json\n",
    "\n",
    "# Path to data\n",
    "silver_dir_path = \"/opt/data/silver\"\n",
    "spain_contour_path = f\"{silver_dir_path}/spain/spain_contour.parquet\"\n",
    "\n",
    "# Load the shapefile containing Spain's contour\n",
    "gdf = gpd.read_parquet(spain_contour_path)\n",
    "\n",
    "# Ensure it has one row containing a multipolygon\n",
    "spain_geometry = gdf.iloc[0].geometry\n",
    "\n",
    "# Define the H3 resolution (the higher the number, the finer the hexagons)\n",
    "resolution = 5\n",
    "\n",
    "# Function to get the H3 hexagons completely within the multipolygon\n",
    "def get_h3_hexagons_within(geometry, resolution):\n",
    "    hexagons = set()\n",
    "    if geometry.geom_type == 'MultiPolygon':\n",
    "        for polygon in geometry.geoms:\n",
    "            hexagons.update(get_h3_hexagons_within_polygon(polygon, resolution))\n",
    "    elif geometry.geom_type == 'Polygon':\n",
    "        hexagons.update(get_h3_hexagons_within_polygon(geometry, resolution))\n",
    "    return list(hexagons)\n",
    "\n",
    "def get_h3_hexagons_within_polygon(polygon, resolution):\n",
    "    hexagons = set()\n",
    "    # Get the bounding box of the polygon\n",
    "    minx, miny, maxx, maxy = polygon.bounds\n",
    "    # Iterate over the bounding box area with a step size to cover the polygon\n",
    "    for lat in range(int(miny), int(maxy)+1):\n",
    "        for lng in range(int(minx), int(maxx)+1):\n",
    "            hex_id = h3.geo_to_h3(lat, lng, resolution)\n",
    "            hex_boundary = h3.h3_to_geo_boundary(hex_id, geo_json=True)\n",
    "            hex_polygon = shape({'type': 'Polygon', 'coordinates': [hex_boundary]})\n",
    "            # Check if the hexagon is completely within the polygon\n",
    "            if polygon.contains(hex_polygon):\n",
    "                hexagons.add(hex_id)\n",
    "    return hexagons\n",
    "\n",
    "# Get the H3 hexagons within the multipolygon of Spain\n",
    "h3_hexagons = get_h3_hexagons_within(spain_geometry, resolution)\n",
    "\n",
    "# Convert H3 hexagons to polygons for visualization\n",
    "hexagons_polygons = [Polygon(h3.h3_to_geo_boundary(hex_id, geo_json=True)) for hex_id in h3_hexagons]\n",
    "\n",
    "# Create a GeoDataFrame from the hexagon polygons\n",
    "hex_gdf = gpd.GeoDataFrame({'h3_id': h3_hexagons, 'geometry': hexagons_polygons})\n",
    "\n",
    "# Save the result to a new shapefile (optional)\n",
    "# hex_gdf.to_file('spain_h3_grid.shp')\n",
    "\n",
    "# Visualize (optional)\n",
    "# hex_gdf.explore()\n"
   ]
  },
  {
   "cell_type": "code",
   "execution_count": null,
   "metadata": {},
   "outputs": [],
   "source": []
  },
  {
   "cell_type": "code",
   "execution_count": null,
   "metadata": {},
   "outputs": [],
   "source": []
  }
 ],
 "metadata": {
  "kernelspec": {
   "display_name": "Python 3",
   "language": "python",
   "name": "python3"
  },
  "language_info": {
   "codemirror_mode": {
    "name": "ipython",
    "version": 3
   },
   "file_extension": ".py",
   "mimetype": "text/x-python",
   "name": "python",
   "nbconvert_exporter": "python",
   "pygments_lexer": "ipython3",
   "version": "3.12.2"
  }
 },
 "nbformat": 4,
 "nbformat_minor": 2
}
