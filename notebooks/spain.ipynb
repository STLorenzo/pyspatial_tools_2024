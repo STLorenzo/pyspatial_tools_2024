{
 "cells": [
  {
   "cell_type": "code",
   "execution_count": 1,
   "metadata": {},
   "outputs": [],
   "source": [
    "# Spain data ingestion\n",
    "import os\n",
    "\n",
    "import geopandas as gpd\n",
    "\n",
    "# Constants\n",
    "WSG_84 = 4326\n",
    "SPAIN_CRS = 3042\n",
    "\n",
    "# Params - paths\n",
    "silver_dir_path = \"/opt/data/silver\"\n",
    "\n",
    "spain_shape_landing = \"/opt/data/landing/spain_shape/SHP_ETRS89/recintos_provinciales_inspire_peninbal_etrs89/recintos_provinciales_inspire_peninbal_etrs89.shp\"\n",
    "spain_contour_path = f\"{silver_dir_path}/spain/spain_contour.parquet\"\n",
    "\n",
    "# Ingestion\n",
    "spain_shape = gpd.read_file(spain_shape_landing).to_crs(SPAIN_CRS)\n",
    "\n",
    "# Transform\n",
    "wanted_cols = [\"INSPIREID\", \"geometry\"]\n",
    "spain_contour = spain_shape[wanted_cols].dissolve()\n",
    "\n",
    "# Write\n",
    "os.makedirs(os.path.dirname(spain_contour_path), exist_ok=True)\n",
    "spain_contour.to_parquet(spain_contour_path)"
   ]
  },
  {
   "cell_type": "code",
   "execution_count": 3,
   "metadata": {},
   "outputs": [
    {
     "data": {
      "text/html": [
       "<div>\n",
       "<style scoped>\n",
       "    .dataframe tbody tr th:only-of-type {\n",
       "        vertical-align: middle;\n",
       "    }\n",
       "\n",
       "    .dataframe tbody tr th {\n",
       "        vertical-align: top;\n",
       "    }\n",
       "\n",
       "    .dataframe thead th {\n",
       "        text-align: right;\n",
       "    }\n",
       "</style>\n",
       "<table border=\"1\" class=\"dataframe\">\n",
       "  <thead>\n",
       "    <tr style=\"text-align: right;\">\n",
       "      <th></th>\n",
       "      <th>geometry</th>\n",
       "      <th>INSPIREID</th>\n",
       "    </tr>\n",
       "  </thead>\n",
       "  <tbody>\n",
       "    <tr>\n",
       "      <th>0</th>\n",
       "      <td>MULTIPOLYGON (((-3130.282 4749877.431, -3142.2...</td>\n",
       "      <td>ES.IGN.BDDAE.34160100000</td>\n",
       "    </tr>\n",
       "  </tbody>\n",
       "</table>\n",
       "</div>"
      ],
      "text/plain": [
       "                                            geometry                 INSPIREID\n",
       "0  MULTIPOLYGON (((-3130.282 4749877.431, -3142.2...  ES.IGN.BDDAE.34160100000"
      ]
     },
     "execution_count": 3,
     "metadata": {},
     "output_type": "execute_result"
    }
   ],
   "source": [
    "gdf = gpd.read_parquet(spain_contour_path)\n",
    "gdf.head()"
   ]
  },
  {
   "cell_type": "code",
   "execution_count": null,
   "metadata": {},
   "outputs": [],
   "source": []
  },
  {
   "cell_type": "markdown",
   "metadata": {},
   "source": [
    "# H3 Hexagons"
   ]
  },
  {
   "cell_type": "code",
   "execution_count": null,
   "metadata": {},
   "outputs": [],
   "source": [
    "import json\n",
    "\n",
    "import geopandas as gpd\n",
    "import h3\n",
    "from shapely.geometry import MultiPolygon, Polygon, shape\n",
    "\n",
    "# Path to data\n",
    "silver_dir_path = \"/opt/data/silver\"\n",
    "spain_contour_path = f\"{silver_dir_path}/spain/spain_contour.parquet\"\n",
    "\n",
    "# Load the shapefile containing Spain's contour\n",
    "gdf = gpd.read_parquet(spain_contour_path)\n",
    "\n",
    "# Ensure it has one row containing a multipolygon\n",
    "spain_geometry = gdf.iloc[0].geometry\n",
    "\n",
    "# Define the H3 resolution (the higher the number, the finer the hexagons)\n",
    "resolution = 3\n",
    "\n",
    "\n",
    "# Function to get the H3 hexagons completely within the multipolygon\n",
    "def get_h3_hexagons_within(geometry, resolution):\n",
    "    hexagons = set()\n",
    "    if geometry.geom_type == \"MultiPolygon\":\n",
    "        for polygon in geometry.geoms:\n",
    "            hexagons.update(get_h3_hexagons_within_polygon(polygon, resolution))\n",
    "    elif geometry.geom_type == \"Polygon\":\n",
    "        hexagons.update(get_h3_hexagons_within_polygon(geometry, resolution))\n",
    "    return list(hexagons)\n",
    "\n",
    "\n",
    "def get_h3_hexagons_within_polygon(polygon, resolution):\n",
    "    hexagons = set()\n",
    "    # Get the bounding box of the polygon\n",
    "    minx, miny, maxx, maxy = polygon.bounds\n",
    "    # Iterate over the bounding box area with a step size to cover the polygon\n",
    "    for lat in range(int(miny), int(maxy) + 1):\n",
    "        for lng in range(int(minx), int(maxx) + 1):\n",
    "            hex_id = h3.geo_to_h3(lat, lng, resolution)\n",
    "            hex_boundary = h3.h3_to_geo_boundary(hex_id, geo_json=True)\n",
    "            hex_polygon = shape({\"type\": \"Polygon\", \"coordinates\": [hex_boundary]})\n",
    "            # Check if the hexagon is completely within the polygon\n",
    "            if polygon.contains(hex_polygon):\n",
    "                hexagons.add(hex_id)\n",
    "    return hexagons\n",
    "\n",
    "\n",
    "# Get the H3 hexagons within the multipolygon of Spain\n",
    "h3_hexagons = get_h3_hexagons_within(spain_geometry, resolution)\n",
    "\n",
    "# Convert H3 hexagons to polygons for visualization\n",
    "hexagons_polygons = [Polygon(h3.h3_to_geo_boundary(hex_id, geo_json=True)) for hex_id in h3_hexagons]\n",
    "\n",
    "# Create a GeoDataFrame from the hexagon polygons\n",
    "hex_gdf = gpd.GeoDataFrame({\"h3_id\": h3_hexagons, \"geometry\": hexagons_polygons})\n",
    "\n",
    "# Save the result to a new shapefile (optional)\n",
    "# hex_gdf.to_file('spain_h3_grid.shp')\n",
    "\n",
    "# Visualize (optional)\n",
    "# hex_gdf.explore()"
   ]
  },
  {
   "cell_type": "code",
   "execution_count": 1,
   "metadata": {},
   "outputs": [],
   "source": [
    "import json\n",
    "\n",
    "import geopandas as gpd\n",
    "import h3\n",
    "from shapely.geometry import MultiPolygon, Polygon, shape\n",
    "\n",
    "# Path to data\n",
    "silver_dir_path = \"/opt/data/silver\"\n",
    "spain_contour_path = f\"{silver_dir_path}/spain/spain_contour.parquet\"\n",
    "\n",
    "# Load the shapefile containing Spain's contour\n",
    "gdf = gpd.read_parquet(spain_contour_path)\n",
    "\n",
    "# Ensure it has one row containing a multipolygon\n",
    "spain_geometry = gdf.iloc[0].geometry\n",
    "\n",
    "# Define the H3 resolution (the higher the number, the finer the hexagons)\n",
    "resolution = 3"
   ]
  },
  {
   "cell_type": "code",
   "execution_count": 2,
   "metadata": {},
   "outputs": [
    {
     "data": {
      "text/plain": [
       "'3.7.7'"
      ]
     },
     "execution_count": 2,
     "metadata": {},
     "output_type": "execute_result"
    }
   ],
   "source": [
    "h3.__version__"
   ]
  },
  {
   "cell_type": "code",
   "execution_count": 4,
   "metadata": {},
   "outputs": [
    {
     "data": {
      "text/plain": [
       "shapely.geometry.multipolygon.MultiPolygon"
      ]
     },
     "execution_count": 4,
     "metadata": {},
     "output_type": "execute_result"
    }
   ],
   "source": [
    "type(spain_geometry)"
   ]
  },
  {
   "cell_type": "code",
   "execution_count": 9,
   "metadata": {},
   "outputs": [
    {
     "ename": "TypeError",
     "evalue": "Argument 'geojson' has incorrect type (expected dict, got str)",
     "output_type": "error",
     "traceback": [
      "\u001b[0;31m---------------------------------------------------------------------------\u001b[0m",
      "\u001b[0;31mTypeError\u001b[0m                                 Traceback (most recent call last)",
      "Cell \u001b[0;32mIn[9], line 5\u001b[0m\n\u001b[1;32m      2\u001b[0m \u001b[38;5;28;01mfrom\u001b[39;00m \u001b[38;5;21;01mshapely\u001b[39;00m \u001b[38;5;28;01mimport\u001b[39;00m to_geojson\n\u001b[1;32m      4\u001b[0m spain_geojson \u001b[38;5;241m=\u001b[39m to_geojson(spain_geometry)\n\u001b[0;32m----> 5\u001b[0m hexagons \u001b[38;5;241m=\u001b[39m \u001b[43mh3\u001b[49m\u001b[38;5;241;43m.\u001b[39;49m\u001b[43mpolyfill\u001b[49m\u001b[43m(\u001b[49m\u001b[43mspain_geojson\u001b[49m\u001b[43m,\u001b[49m\u001b[43m \u001b[49m\u001b[43mresolution\u001b[49m\u001b[43m)\u001b[49m\n",
      "File \u001b[0;32m/usr/local/lib/python3.12/site-packages/h3/api/_api_template.py:530\u001b[0m, in \u001b[0;36m_API_FUNCTIONS.polyfill\u001b[0;34m(self, geojson, res, geo_json_conformant)\u001b[0m\n\u001b[1;32m    495\u001b[0m \u001b[38;5;28;01mdef\u001b[39;00m \u001b[38;5;21mpolyfill\u001b[39m(\u001b[38;5;28mself\u001b[39m, geojson, res, geo_json_conformant\u001b[38;5;241m=\u001b[39m\u001b[38;5;28;01mFalse\u001b[39;00m):\n\u001b[1;32m    496\u001b[0m \u001b[38;5;250m    \u001b[39m\u001b[38;5;124;03m\"\"\"\u001b[39;00m\n\u001b[1;32m    497\u001b[0m \u001b[38;5;124;03m    Get set of hexagons whose *centers* are contained within\u001b[39;00m\n\u001b[1;32m    498\u001b[0m \u001b[38;5;124;03m    a GeoJSON-style polygon.\u001b[39;00m\n\u001b[0;32m   (...)\u001b[0m\n\u001b[1;32m    528\u001b[0m \u001b[38;5;124;03m    unordered collection of H3Cell\u001b[39;00m\n\u001b[1;32m    529\u001b[0m \u001b[38;5;124;03m    \"\"\"\u001b[39;00m\n\u001b[0;32m--> 530\u001b[0m     mv \u001b[38;5;241m=\u001b[39m \u001b[43m_cy\u001b[49m\u001b[38;5;241;43m.\u001b[39;49m\u001b[43mpolyfill\u001b[49m\u001b[43m(\u001b[49m\u001b[43mgeojson\u001b[49m\u001b[43m,\u001b[49m\u001b[43m \u001b[49m\u001b[43mres\u001b[49m\u001b[43m,\u001b[49m\u001b[43m \u001b[49m\u001b[43mgeo_json_conformant\u001b[49m\u001b[38;5;241;43m=\u001b[39;49m\u001b[43mgeo_json_conformant\u001b[49m\u001b[43m)\u001b[49m\n\u001b[1;32m    532\u001b[0m     \u001b[38;5;28;01mreturn\u001b[39;00m \u001b[38;5;28mself\u001b[39m\u001b[38;5;241m.\u001b[39m_out_unordered(mv)\n",
      "\u001b[0;31mTypeError\u001b[0m: Argument 'geojson' has incorrect type (expected dict, got str)"
     ]
    }
   ],
   "source": [
    "import h3\n",
    "from shapely import to_geojson\n",
    "\n",
    "spain_geojson = to_geojson(spain_geometry)"
   ]
  },
  {
   "cell_type": "code",
   "execution_count": 16,
   "metadata": {},
   "outputs": [
    {
     "ename": "ValueError",
     "evalue": "Only Polygon GeoJSON supported",
     "output_type": "error",
     "traceback": [
      "\u001b[0;31m---------------------------------------------------------------------------\u001b[0m",
      "\u001b[0;31mValueError\u001b[0m                                Traceback (most recent call last)",
      "Cell \u001b[0;32mIn[16], line 4\u001b[0m\n\u001b[1;32m      1\u001b[0m \u001b[38;5;28;01mfrom\u001b[39;00m \u001b[38;5;21;01mshapely\u001b[39;00m \u001b[38;5;28;01mimport\u001b[39;00m to_geojson\n\u001b[1;32m      3\u001b[0m spain_geojson \u001b[38;5;241m=\u001b[39m json\u001b[38;5;241m.\u001b[39mloads(to_geojson(spain_geometry))\n\u001b[0;32m----> 4\u001b[0m hexagons \u001b[38;5;241m=\u001b[39m \u001b[43mh3\u001b[49m\u001b[38;5;241;43m.\u001b[39;49m\u001b[43mpolyfill\u001b[49m\u001b[43m(\u001b[49m\u001b[43mspain_geojson\u001b[49m\u001b[43m,\u001b[49m\u001b[43m \u001b[49m\u001b[43mresolution\u001b[49m\u001b[43m)\u001b[49m\n\u001b[1;32m      6\u001b[0m h3_list \u001b[38;5;241m=\u001b[39m []\n\u001b[1;32m      7\u001b[0m h3_resolution \u001b[38;5;241m=\u001b[39m \u001b[38;5;241m7\u001b[39m\n",
      "File \u001b[0;32m/usr/local/lib/python3.12/site-packages/h3/api/_api_template.py:530\u001b[0m, in \u001b[0;36m_API_FUNCTIONS.polyfill\u001b[0;34m(self, geojson, res, geo_json_conformant)\u001b[0m\n\u001b[1;32m    495\u001b[0m \u001b[38;5;28;01mdef\u001b[39;00m \u001b[38;5;21mpolyfill\u001b[39m(\u001b[38;5;28mself\u001b[39m, geojson, res, geo_json_conformant\u001b[38;5;241m=\u001b[39m\u001b[38;5;28;01mFalse\u001b[39;00m):\n\u001b[1;32m    496\u001b[0m \u001b[38;5;250m    \u001b[39m\u001b[38;5;124;03m\"\"\"\u001b[39;00m\n\u001b[1;32m    497\u001b[0m \u001b[38;5;124;03m    Get set of hexagons whose *centers* are contained within\u001b[39;00m\n\u001b[1;32m    498\u001b[0m \u001b[38;5;124;03m    a GeoJSON-style polygon.\u001b[39;00m\n\u001b[0;32m   (...)\u001b[0m\n\u001b[1;32m    528\u001b[0m \u001b[38;5;124;03m    unordered collection of H3Cell\u001b[39;00m\n\u001b[1;32m    529\u001b[0m \u001b[38;5;124;03m    \"\"\"\u001b[39;00m\n\u001b[0;32m--> 530\u001b[0m     mv \u001b[38;5;241m=\u001b[39m \u001b[43m_cy\u001b[49m\u001b[38;5;241;43m.\u001b[39;49m\u001b[43mpolyfill\u001b[49m\u001b[43m(\u001b[49m\u001b[43mgeojson\u001b[49m\u001b[43m,\u001b[49m\u001b[43m \u001b[49m\u001b[43mres\u001b[49m\u001b[43m,\u001b[49m\u001b[43m \u001b[49m\u001b[43mgeo_json_conformant\u001b[49m\u001b[38;5;241;43m=\u001b[39;49m\u001b[43mgeo_json_conformant\u001b[49m\u001b[43m)\u001b[49m\n\u001b[1;32m    532\u001b[0m     \u001b[38;5;28;01mreturn\u001b[39;00m \u001b[38;5;28mself\u001b[39m\u001b[38;5;241m.\u001b[39m_out_unordered(mv)\n",
      "File \u001b[0;32mgeo.pyx:205\u001b[0m, in \u001b[0;36mh3._cy.geo.polyfill\u001b[0;34m()\u001b[0m\n",
      "\u001b[0;31mValueError\u001b[0m: Only Polygon GeoJSON supported"
     ]
    }
   ],
   "source": [
    "from shapely import to_geojson\n",
    "\n",
    "spain_geojson = json.loads(to_geojson(spain_geometry))\n",
    "hexagons = h3.polyfill(spain_geojson, resolution)\n",
    "\n",
    "h3_list = []\n",
    "h3_resolution = 7\n",
    "for feature in spain_geojson[\"features\"]:\n",
    "    feature_h3 = h3.polyfill_geojson(feature[0][\"geometry\"], h3_resolution)\n",
    "    h3_list.append(feature_h3)\n",
    "    print(\"H3's created => \", len(feature_h3))\n",
    "    break"
   ]
  },
  {
   "cell_type": "code",
   "execution_count": null,
   "metadata": {},
   "outputs": [],
   "source": [
    "madrid_bbox = [\n",
    "            [\n",
    "              -3.7134421153521657,\n",
    "              40.43176776026357\n",
    "            ],\n",
    "            [\n",
    "              -3.7134421153521657,\n",
    "              40.39999120365053\n",
    "            ],\n",
    "            [\n",
    "              -3.668268489975361,\n",
    "              40.39999120365053\n",
    "            ],\n",
    "            [\n",
    "              -3.668268489975361,\n",
    "              40.43176776026357\n",
    "            ],\n",
    "            [\n",
    "              -3.7134421153521657,\n",
    "              40.43176776026357\n",
    "            ]\n",
    "          ]"
   ]
  }
 ],
 "metadata": {
  "kernelspec": {
   "display_name": "Python 3",
   "language": "python",
   "name": "python3"
  },
  "language_info": {
   "codemirror_mode": {
    "name": "ipython",
    "version": 3
   },
   "file_extension": ".py",
   "mimetype": "text/x-python",
   "name": "python",
   "nbconvert_exporter": "python",
   "pygments_lexer": "ipython3",
   "version": "3.12.2"
  }
 },
 "nbformat": 4,
 "nbformat_minor": 2
}
