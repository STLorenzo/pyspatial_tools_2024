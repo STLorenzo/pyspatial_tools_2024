{
 "cells": [
  {
   "cell_type": "code",
   "execution_count": 12,
   "metadata": {},
   "outputs": [
    {
     "data": {
      "text/html": [
       "<div><style>\n",
       ".dataframe > thead > tr,\n",
       ".dataframe > tbody > tr {\n",
       "  text-align: right;\n",
       "  white-space: pre-wrap;\n",
       "}\n",
       "</style>\n",
       "<small>shape: (5, 4)</small><table border=\"1\" class=\"dataframe\"><thead><tr><th>user_id</th><th>nationality</th><th>gender</th><th>residence</th></tr><tr><td>str</td><td>str</td><td>str</td><td>str</td></tr></thead><tbody><tr><td>&quot;user_0&quot;</td><td>&quot;French&quot;</td><td>&quot;F&quot;</td><td>&quot;Madrid&quot;</td></tr><tr><td>&quot;user_1&quot;</td><td>&quot;Spanish&quot;</td><td>&quot;F&quot;</td><td>&quot;Euskadi&quot;</td></tr><tr><td>&quot;user_2&quot;</td><td>&quot;French&quot;</td><td>&quot;M&quot;</td><td>&quot;Euskadi&quot;</td></tr><tr><td>&quot;user_3&quot;</td><td>&quot;Spanish&quot;</td><td>&quot;M&quot;</td><td>&quot;Madrid&quot;</td></tr><tr><td>&quot;user_4&quot;</td><td>&quot;French&quot;</td><td>&quot;M&quot;</td><td>&quot;Madrid&quot;</td></tr></tbody></table></div>"
      ],
      "text/plain": [
       "shape: (5, 4)\n",
       "┌─────────┬─────────────┬────────┬───────────┐\n",
       "│ user_id ┆ nationality ┆ gender ┆ residence │\n",
       "│ ---     ┆ ---         ┆ ---    ┆ ---       │\n",
       "│ str     ┆ str         ┆ str    ┆ str       │\n",
       "╞═════════╪═════════════╪════════╪═══════════╡\n",
       "│ user_0  ┆ French      ┆ F      ┆ Madrid    │\n",
       "│ user_1  ┆ Spanish     ┆ F      ┆ Euskadi   │\n",
       "│ user_2  ┆ French      ┆ M      ┆ Euskadi   │\n",
       "│ user_3  ┆ Spanish     ┆ M      ┆ Madrid    │\n",
       "│ user_4  ┆ French      ┆ M      ┆ Madrid    │\n",
       "└─────────┴─────────────┴────────┴───────────┘"
      ]
     },
     "execution_count": 12,
     "metadata": {},
     "output_type": "execute_result"
    }
   ],
   "source": [
    "# Define tables\n",
    "# users\n",
    "# - user_id | nationality | age | gender | residence\n",
    "\n",
    "import random\n",
    "import os\n",
    "import polars as pl\n",
    "\n",
    "n_users = 20\n",
    "nationalities = ['Spanish', 'French']\n",
    "genders = ['M', 'F']\n",
    "residences = ['Madrid', 'Euskadi']\n",
    "\n",
    "# random generator of polars df\n",
    "data = [{\n",
    "    'user_id': f'user_{i}',\n",
    "    'nationality': random.choice(nationalities),\n",
    "    'gender': random.choice(genders),\n",
    "    'residence': random.choice(residences)\n",
    "\n",
    "} for i in range(n_users)]\n",
    "\n",
    "data_dir = '/opt/app/sample_data'\n",
    "users_dir = f'{data_dir}/users'\n",
    "\n",
    "df_users = pl.DataFrame(data)\n",
    "df_users.head()"
   ]
  },
  {
   "cell_type": "code",
   "execution_count": 14,
   "metadata": {},
   "outputs": [],
   "source": [
    "# LAB 1 \n",
    "delta_write_options = {'partition_by': ['residence', 'nationality']}\n",
    "# Polars + Delta\n",
    "df_users.write_delta(users_dir, mode='overwrite', delta_write_options=delta_write_options)\n"
   ]
  },
  {
   "cell_type": "code",
   "execution_count": null,
   "metadata": {},
   "outputs": [],
   "source": [
    "\n",
    "\n",
    "# Generate random users\n",
    "\n",
    "# Generate random points in Madrid for random users\n",
    "\n",
    "\n",
    "# Index activities with H3\n",
    "\n"
   ]
  },
  {
   "cell_type": "code",
   "execution_count": null,
   "metadata": {},
   "outputs": [],
   "source": []
  },
  {
   "cell_type": "code",
   "execution_count": null,
   "metadata": {},
   "outputs": [],
   "source": []
  },
  {
   "cell_type": "code",
   "execution_count": null,
   "metadata": {},
   "outputs": [],
   "source": []
  },
  {
   "cell_type": "code",
   "execution_count": null,
   "metadata": {},
   "outputs": [],
   "source": []
  },
  {
   "cell_type": "code",
   "execution_count": null,
   "metadata": {},
   "outputs": [],
   "source": []
  },
  {
   "cell_type": "code",
   "execution_count": null,
   "metadata": {},
   "outputs": [],
   "source": []
  }
 ],
 "metadata": {
  "kernelspec": {
   "display_name": "Python 3",
   "language": "python",
   "name": "python3"
  },
  "language_info": {
   "codemirror_mode": {
    "name": "ipython",
    "version": 3
   },
   "file_extension": ".py",
   "mimetype": "text/x-python",
   "name": "python",
   "nbconvert_exporter": "python",
   "pygments_lexer": "ipython3",
   "version": "3.12.2"
  }
 },
 "nbformat": 4,
 "nbformat_minor": 2
}
