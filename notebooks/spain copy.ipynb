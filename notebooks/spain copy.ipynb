{
 "cells": [
  {
   "cell_type": "code",
   "execution_count": 11,
   "metadata": {},
   "outputs": [],
   "source": [
    "# Spain data ingestion\n",
    "import os\n",
    "import geopandas as gpd\n",
    "\n",
    "# Constants\n",
    "WSG_84 = 4326\n",
    "SPAIN_CRS = 3042\n",
    "\n",
    "# Params - paths\n",
    "silver_dir_path = \"/opt/data/silver\"\n",
    "\n",
    "spain_shape_landing = \"/opt/data/landing/spain_shape/SHP_ETRS89/recintos_provinciales_inspire_peninbal_etrs89/recintos_provinciales_inspire_peninbal_etrs89.shp\"\n",
    "write_path = f\"{silver_dir_path}/spain/spain_contour.parquet\"\n",
    "\n",
    "# Ingestion\n",
    "spain_shape = gpd.read_file(spain_shape_landing).to_crs(SPAIN_CRS)\n",
    "\n",
    "# Transform\n",
    "wanted_cols = [\"INSPIREID\", \"geometry\"]\n",
    "spain_contour = spain_shape[wanted_cols].dissolve()\n",
    "\n",
    "# Write\n",
    "os.makedirs(os.path.dirname(write_path), exist_ok=True)\n",
    "spain_contour.to_parquet(write_path)"
   ]
  },
  {
   "cell_type": "code",
   "execution_count": 12,
   "metadata": {},
   "outputs": [
    {
     "data": {
      "text/html": [
       "<div>\n",
       "<style scoped>\n",
       "    .dataframe tbody tr th:only-of-type {\n",
       "        vertical-align: middle;\n",
       "    }\n",
       "\n",
       "    .dataframe tbody tr th {\n",
       "        vertical-align: top;\n",
       "    }\n",
       "\n",
       "    .dataframe thead th {\n",
       "        text-align: right;\n",
       "    }\n",
       "</style>\n",
       "<table border=\"1\" class=\"dataframe\">\n",
       "  <thead>\n",
       "    <tr style=\"text-align: right;\">\n",
       "      <th></th>\n",
       "      <th>geometry</th>\n",
       "      <th>INSPIREID</th>\n",
       "    </tr>\n",
       "  </thead>\n",
       "  <tbody>\n",
       "    <tr>\n",
       "      <th>0</th>\n",
       "      <td>MULTIPOLYGON (((-3130.282 4749877.431, -3142.2...</td>\n",
       "      <td>ES.IGN.BDDAE.34160100000</td>\n",
       "    </tr>\n",
       "  </tbody>\n",
       "</table>\n",
       "</div>"
      ],
      "text/plain": [
       "                                            geometry                 INSPIREID\n",
       "0  MULTIPOLYGON (((-3130.282 4749877.431, -3142.2...  ES.IGN.BDDAE.34160100000"
      ]
     },
     "execution_count": 12,
     "metadata": {},
     "output_type": "execute_result"
    }
   ],
   "source": [
    "gpd.read_parquet(write_path).head()"
   ]
  },
  {
   "cell_type": "code",
   "execution_count": null,
   "metadata": {},
   "outputs": [],
   "source": []
  }
 ],
 "metadata": {
  "kernelspec": {
   "display_name": "Python 3",
   "language": "python",
   "name": "python3"
  },
  "language_info": {
   "codemirror_mode": {
    "name": "ipython",
    "version": 3
   },
   "file_extension": ".py",
   "mimetype": "text/x-python",
   "name": "python",
   "nbconvert_exporter": "python",
   "pygments_lexer": "ipython3",
   "version": "3.12.2"
  }
 },
 "nbformat": 4,
 "nbformat_minor": 2
}
